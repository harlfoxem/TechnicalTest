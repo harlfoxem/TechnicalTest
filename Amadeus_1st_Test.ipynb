{
 "cells": [
  {
   "cell_type": "markdown",
   "metadata": {},
   "source": [
    "## First exercise: count the number of lines in Python for each file "
   ]
  },
  {
   "cell_type": "code",
   "execution_count": 1,
   "metadata": {
    "collapsed": false
   },
   "outputs": [
    {
     "name": "stdout",
     "output_type": "stream",
     "text": [
      "number of lines in the bookings.csv file = 10000011\n",
      "number of lines in the searches.csv file = 20390199\n"
     ]
    }
   ],
   "source": [
    "# Count lines in both files using Python\n",
    "print('number of lines in the bookings.csv file =', sum(1 for line in open('bookings.csv')))\n",
    "print('number of lines in the searches.csv file =', sum(1 for line in open('searches.csv')))"
   ]
  },
  {
   "cell_type": "code",
   "execution_count": 2,
   "metadata": {
    "collapsed": false
   },
   "outputs": [
    {
     "name": "stdout",
     "output_type": "stream",
     "text": [
      "number of lines in the bookings.csv file = 10000011\n",
      "number of lines in the searches.csv file = 20390199\n"
     ]
    }
   ],
   "source": [
    "# Count lines using the csv library\n",
    "import csv\n",
    "\n",
    "with open('bookings.csv') as f:\n",
    "    reader = csv.reader(f)\n",
    "    print('number of lines in the bookings.csv file =', sum(1 for row in reader))\n",
    "with open('searches.csv') as f:\n",
    "    reader = csv.reader(f)\n",
    "    print('number of lines in the searches.csv file =', sum(1 for row in reader))"
   ]
  },
  {
   "cell_type": "code",
   "execution_count": 3,
   "metadata": {
    "collapsed": false
   },
   "outputs": [
    {
     "name": "stdout",
     "output_type": "stream",
     "text": [
      "number of lines in the bookings.csv file = 10000011\n",
      "number of lines in the searches.csv file = 20390199\n"
     ]
    }
   ],
   "source": [
    "# Count lines using pandas\n",
    "import pandas as pd\n",
    "\n",
    "print('number of lines in the bookings.csv file =', (pd.read_csv('bookings.csv',sep='^',usecols=[0]).size)+1)\n",
    "print('number of lines in the searches.csv file =', (pd.read_csv('searches.csv',sep='^',usecols=[0]).size)+1)"
   ]
  }
 ],
 "metadata": {
  "kernelspec": {
   "display_name": "Python 3",
   "language": "python",
   "name": "python3"
  },
  "language_info": {
   "codemirror_mode": {
    "name": "ipython",
    "version": 3
   },
   "file_extension": ".py",
   "mimetype": "text/x-python",
   "name": "python",
   "nbconvert_exporter": "python",
   "pygments_lexer": "ipython3",
   "version": "3.5.1"
  }
 },
 "nbformat": 4,
 "nbformat_minor": 0
}
