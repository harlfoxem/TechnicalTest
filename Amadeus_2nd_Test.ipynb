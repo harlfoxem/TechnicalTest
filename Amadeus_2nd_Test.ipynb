{
 "cells": [
  {
   "cell_type": "markdown",
   "metadata": {},
   "source": [
    "## Second exercise: top 10 arrival airports in the world in 2013 (using the bookings file)"
   ]
  },
  {
   "cell_type": "markdown",
   "metadata": {},
   "source": [
    "**Problem solved using pandas**\n",
    "\n",
    "**The name of the corresponding city and airport is provided for each airport_code**"
   ]
  },
  {
   "cell_type": "code",
   "execution_count": 2,
   "metadata": {
    "collapsed": false
   },
   "outputs": [
    {
     "name": "stdout",
     "output_type": "stream",
     "text": [
      "['act_date           ^source^pos_ctry^pos_iata^pos_oid  ^rloc          ^cre_date           ^duration^distance^dep_port^dep_city^dep_ctry^arr_port^arr_city^arr_ctry^lst_port^lst_city^lst_ctry^brd_port^brd_city^brd_ctry^off_port^off_city^off_ctry^mkt_port^mkt_city^mkt_ctry^intl^route          ^carrier^bkg_class^cab_class^brd_time           ^off_time           ^pax^year^month^oid      \\n', '2013-03-05 00:00:00^1A    ^DE      ^a68dd7ae953c8acfb187a1af2dcbe123^1a11ae49fcbf545fd2afc1a24d88d2b7^ea65900e72d71f4626378e2ebd298267^2013-02-22 00:00:00^1708^0^ZRH     ^ZRH     ^CH      ^LHR     ^LON     ^GB      ^ZRH     ^ZRH     ^CH      ^LHR     ^LON     ^GB      ^ZRH     ^ZRH     ^CH      ^LHRZRH  ^LONZRH  ^CHGB    ^1^LHRZRH         ^VI^T        ^Y        ^2013-03-07 08:50:00^2013-03-07 11:33:37^-1^2013^3^NULL     \\n']\n"
     ]
    }
   ],
   "source": [
    "# Display the first line of the bookings.csv file to identify the key column parameters and delimiter\n",
    "from itertools import islice\n",
    "with open(\"bookings.csv\") as f:\n",
    "    print(list(islice(f, 2)))"
   ]
  },
  {
   "cell_type": "code",
   "execution_count": 3,
   "metadata": {
    "collapsed": false
   },
   "outputs": [
    {
     "data": {
      "text/html": [
       "<div>\n",
       "<table border=\"1\" class=\"dataframe\">\n",
       "  <thead>\n",
       "    <tr style=\"text-align: right;\">\n",
       "      <th></th>\n",
       "      <th>pax</th>\n",
       "    </tr>\n",
       "    <tr>\n",
       "      <th>arr_port</th>\n",
       "      <th></th>\n",
       "    </tr>\n",
       "  </thead>\n",
       "  <tbody>\n",
       "    <tr>\n",
       "      <th>LHR</th>\n",
       "      <td>88809.0</td>\n",
       "    </tr>\n",
       "    <tr>\n",
       "      <th>MCO</th>\n",
       "      <td>70930.0</td>\n",
       "    </tr>\n",
       "    <tr>\n",
       "      <th>LAX</th>\n",
       "      <td>70530.0</td>\n",
       "    </tr>\n",
       "    <tr>\n",
       "      <th>LAS</th>\n",
       "      <td>69630.0</td>\n",
       "    </tr>\n",
       "    <tr>\n",
       "      <th>JFK</th>\n",
       "      <td>66270.0</td>\n",
       "    </tr>\n",
       "    <tr>\n",
       "      <th>CDG</th>\n",
       "      <td>64490.0</td>\n",
       "    </tr>\n",
       "    <tr>\n",
       "      <th>BKK</th>\n",
       "      <td>59460.0</td>\n",
       "    </tr>\n",
       "    <tr>\n",
       "      <th>MIA</th>\n",
       "      <td>58150.0</td>\n",
       "    </tr>\n",
       "    <tr>\n",
       "      <th>SFO</th>\n",
       "      <td>58000.0</td>\n",
       "    </tr>\n",
       "    <tr>\n",
       "      <th>DXB</th>\n",
       "      <td>55590.0</td>\n",
       "    </tr>\n",
       "  </tbody>\n",
       "</table>\n",
       "</div>"
      ],
      "text/plain": [
       "              pax\n",
       "arr_port         \n",
       "LHR       88809.0\n",
       "MCO       70930.0\n",
       "LAX       70530.0\n",
       "LAS       69630.0\n",
       "JFK       66270.0\n",
       "CDG       64490.0\n",
       "BKK       59460.0\n",
       "MIA       58150.0\n",
       "SFO       58000.0\n",
       "DXB       55590.0"
      ]
     },
     "execution_count": 3,
     "metadata": {},
     "output_type": "execute_result"
    }
   ],
   "source": [
    "import pandas as pd\n",
    "\n",
    "# Create a Dataframe object of the bookings.csv file\n",
    "bookings = pd.read_csv('bookings.csv',sep='^',usecols={'arr_port','pax','year'})\n",
    "bookings[\"arr_port\"] = bookings[\"arr_port\"].map(str.strip) #Strip out the extra whitespaces in arr_port (required for merging)\n",
    "\n",
    "# Drop records whith travel date different than 2013 (probably useless. Only 1 NaN record was found)\n",
    "bookings = bookings[bookings.year == 2013]\n",
    "bookings=bookings.drop('year',1)\n",
    "\n",
    "# Use of Groupby method to compute the top 10 arrival airports.\n",
    "top10 = bookings.groupby(by='arr_port').sum().sort_values(by='pax',ascending=False)[:10]\n",
    "top10"
   ]
  },
  {
   "cell_type": "code",
   "execution_count": 4,
   "metadata": {
    "collapsed": false
   },
   "outputs": [
    {
     "data": {
      "text/html": [
       "<div>\n",
       "<table border=\"1\" class=\"dataframe\">\n",
       "  <thead>\n",
       "    <tr style=\"text-align: right;\">\n",
       "      <th></th>\n",
       "      <th>Airport_Name</th>\n",
       "      <th>City</th>\n",
       "      <th>Country</th>\n",
       "      <th>IATA/FAA</th>\n",
       "    </tr>\n",
       "  </thead>\n",
       "  <tbody>\n",
       "    <tr>\n",
       "      <th>0</th>\n",
       "      <td>Goroka</td>\n",
       "      <td>Goroka</td>\n",
       "      <td>Papua New Guinea</td>\n",
       "      <td>GKA</td>\n",
       "    </tr>\n",
       "    <tr>\n",
       "      <th>1</th>\n",
       "      <td>Madang</td>\n",
       "      <td>Madang</td>\n",
       "      <td>Papua New Guinea</td>\n",
       "      <td>MAG</td>\n",
       "    </tr>\n",
       "    <tr>\n",
       "      <th>2</th>\n",
       "      <td>Mount Hagen</td>\n",
       "      <td>Mount Hagen</td>\n",
       "      <td>Papua New Guinea</td>\n",
       "      <td>HGU</td>\n",
       "    </tr>\n",
       "  </tbody>\n",
       "</table>\n",
       "</div>"
      ],
      "text/plain": [
       "  Airport_Name         City           Country IATA/FAA\n",
       "0       Goroka       Goroka  Papua New Guinea      GKA\n",
       "1       Madang       Madang  Papua New Guinea      MAG\n",
       "2  Mount Hagen  Mount Hagen  Papua New Guinea      HGU"
      ]
     },
     "execution_count": 4,
     "metadata": {},
     "output_type": "execute_result"
    }
   ],
   "source": [
    "# Create a Dataframe object of the airport_list.csv file\n",
    "airports_list = pd.read_csv('airports.csv',usecols={'IATA/FAA','City','Country','Airport_Name'})\n",
    "airports_list.head(3)"
   ]
  },
  {
   "cell_type": "code",
   "execution_count": 5,
   "metadata": {
    "collapsed": false
   },
   "outputs": [
    {
     "data": {
      "text/html": [
       "<div>\n",
       "<table border=\"1\" class=\"dataframe\">\n",
       "  <thead>\n",
       "    <tr style=\"text-align: right;\">\n",
       "      <th></th>\n",
       "      <th>pax</th>\n",
       "      <th>Airport_Name</th>\n",
       "      <th>City</th>\n",
       "      <th>Country</th>\n",
       "      <th>IATA/FAA</th>\n",
       "    </tr>\n",
       "  </thead>\n",
       "  <tbody>\n",
       "    <tr>\n",
       "      <th>1</th>\n",
       "      <td>88809</td>\n",
       "      <td>Heathrow</td>\n",
       "      <td>London</td>\n",
       "      <td>United Kingdom</td>\n",
       "      <td>LHR</td>\n",
       "    </tr>\n",
       "    <tr>\n",
       "      <th>2</th>\n",
       "      <td>70930</td>\n",
       "      <td>Orlando Intl</td>\n",
       "      <td>Orlando</td>\n",
       "      <td>United States</td>\n",
       "      <td>MCO</td>\n",
       "    </tr>\n",
       "    <tr>\n",
       "      <th>3</th>\n",
       "      <td>70530</td>\n",
       "      <td>Los Angeles Intl</td>\n",
       "      <td>Los Angeles</td>\n",
       "      <td>United States</td>\n",
       "      <td>LAX</td>\n",
       "    </tr>\n",
       "    <tr>\n",
       "      <th>4</th>\n",
       "      <td>69630</td>\n",
       "      <td>Mc Carran Intl</td>\n",
       "      <td>Las Vegas</td>\n",
       "      <td>United States</td>\n",
       "      <td>LAS</td>\n",
       "    </tr>\n",
       "    <tr>\n",
       "      <th>5</th>\n",
       "      <td>66270</td>\n",
       "      <td>John F Kennedy Intl</td>\n",
       "      <td>New York</td>\n",
       "      <td>United States</td>\n",
       "      <td>JFK</td>\n",
       "    </tr>\n",
       "    <tr>\n",
       "      <th>6</th>\n",
       "      <td>64490</td>\n",
       "      <td>Charles De Gaulle</td>\n",
       "      <td>Paris</td>\n",
       "      <td>France</td>\n",
       "      <td>CDG</td>\n",
       "    </tr>\n",
       "    <tr>\n",
       "      <th>7</th>\n",
       "      <td>59460</td>\n",
       "      <td>Suvarnabhumi Intl</td>\n",
       "      <td>Bangkok</td>\n",
       "      <td>Thailand</td>\n",
       "      <td>BKK</td>\n",
       "    </tr>\n",
       "    <tr>\n",
       "      <th>8</th>\n",
       "      <td>58150</td>\n",
       "      <td>Miami Intl</td>\n",
       "      <td>Miami</td>\n",
       "      <td>United States</td>\n",
       "      <td>MIA</td>\n",
       "    </tr>\n",
       "    <tr>\n",
       "      <th>9</th>\n",
       "      <td>58000</td>\n",
       "      <td>San Francisco Intl</td>\n",
       "      <td>San Francisco</td>\n",
       "      <td>United States</td>\n",
       "      <td>SFO</td>\n",
       "    </tr>\n",
       "    <tr>\n",
       "      <th>10</th>\n",
       "      <td>55590</td>\n",
       "      <td>Dubai Intl</td>\n",
       "      <td>Dubai</td>\n",
       "      <td>United Arab Emirates</td>\n",
       "      <td>DXB</td>\n",
       "    </tr>\n",
       "  </tbody>\n",
       "</table>\n",
       "</div>"
      ],
      "text/plain": [
       "      pax         Airport_Name           City               Country IATA/FAA\n",
       "1   88809             Heathrow         London        United Kingdom      LHR\n",
       "2   70930         Orlando Intl        Orlando         United States      MCO\n",
       "3   70530     Los Angeles Intl    Los Angeles         United States      LAX\n",
       "4   69630       Mc Carran Intl      Las Vegas         United States      LAS\n",
       "5   66270  John F Kennedy Intl       New York         United States      JFK\n",
       "6   64490    Charles De Gaulle          Paris                France      CDG\n",
       "7   59460    Suvarnabhumi Intl        Bangkok              Thailand      BKK\n",
       "8   58150           Miami Intl          Miami         United States      MIA\n",
       "9   58000   San Francisco Intl  San Francisco         United States      SFO\n",
       "10  55590           Dubai Intl          Dubai  United Arab Emirates      DXB"
      ]
     },
     "execution_count": 5,
     "metadata": {},
     "output_type": "execute_result"
    }
   ],
   "source": [
    "# Merge the 2 dataframes into a new object using the IATA code. Change the index (optional).\n",
    "top10_with_Cities=pd.merge(top10,airports_list,right_on='IATA/FAA', how='left',left_index=True)\n",
    "top10_with_Cities.index = [1,2,3,4,5,6,7,8,9,10]\n",
    "top10_with_Cities['pax'] = top10_with_Cities['pax'].astype(int)\n",
    "top10_with_Cities"
   ]
  }
 ],
 "metadata": {
  "kernelspec": {
   "display_name": "Python 3",
   "language": "python",
   "name": "python3"
  },
  "language_info": {
   "codemirror_mode": {
    "name": "ipython",
    "version": 3
   },
   "file_extension": ".py",
   "mimetype": "text/x-python",
   "name": "python",
   "nbconvert_exporter": "python",
   "pygments_lexer": "ipython3",
   "version": "3.5.1"
  }
 },
 "nbformat": 4,
 "nbformat_minor": 0
}
